{
 "cells": [
  {
   "cell_type": "markdown",
   "metadata": {},
   "source": [
    "## Initial Setup and Importing Dataset"
   ]
  },
  {
   "cell_type": "code",
   "execution_count": 24,
   "metadata": {},
   "outputs": [],
   "source": [
    "import pandas as pd\n",
    "import glob\n",
    "import os\n",
    "import numpy as np\n",
    "from sklearn import preprocessing\n",
    "from sklearn.neighbors import NearestNeighbors\n",
    "from sklearn.cluster import KMeans\n",
    "from sklearn.metrics import silhouette_score\n",
    "import math\n",
    "import seaborn as sns\n",
    "import matplotlib.pyplot as plt\n",
    "from mpl_toolkits.mplot3d import Axes3D\n",
    "\n",
    "df = pd.read_csv(\"./Assignment3-UnknownData.csv\")\n",
    "# unknown_df = pd.read_csv(\"./Assignment3-UnknownData.csv\")"
   ]
  },
  {
   "cell_type": "markdown",
   "metadata": {},
   "source": [
    "## Remove Redundant or Derived Attributes\n",
    "The following code creates a dictionary (object in other languages) of each attribute that is a code for something (see attribute description). It then uses the code as the key in a nested object and nests another object within that for all the descriptions that had that code along with the count."
   ]
  },
  {
   "cell_type": "code",
   "execution_count": 1,
   "metadata": {},
   "outputs": [],
   "source": [
    "dfObj = {}\n",
    "attributes = df.columns\n",
    "for y in range(18, 32, 2):\n",
    "    dfObj[attributes[y]] = {}\n",
    "    \n",
    "dfObj[\"HEAT\"] = {}\n",
    "\n",
    "for row in df.values:\n",
    "    for y in range(18, 32, 2):\n",
    "        dfObj[attributes[y]][str(row[y])] = {}\n",
    "        \n",
    "    dfObj[\"HEAT\"][str(row[3])] = {}\n",
    "        \n",
    "for row in df.values:\n",
    "    for y in range(18, 32, 2):\n",
    "        if str(row[y+1]) in dfObj[attributes[y]][str(row[y])]:\n",
    "            dfObj[attributes[y]][str(row[y])][str(row[y+1])] += 1\n",
    "        else:\n",
    "            dfObj[attributes[y]][str(row[y])][str(row[y+1])] = 1\n",
    "            \n",
    "    if str(row[4]) in dfObj[\"HEAT\"][str(row[3])]:\n",
    "        dfObj[\"HEAT\"][str(row[3])][str(row[4])] += 1\n",
    "    else:\n",
    "        dfObj[\"HEAT\"][str(row[3])][str(row[4])] = 1\n",
    "\n",
    "for attribute in dfObj:\n",
    "    print(attribute)\n",
    "    total = 0\n",
    "    for code in dfObj[attribute]:\n",
    "        print(code, len(dfObj[attribute][code]), dfObj[attribute][code])\n",
    "        for count in dfObj[attribute][code]:\n",
    "            total += dfObj[attribute][code][count]\n",
    "    print(total)"
   ]
  },
  {
   "cell_type": "code",
   "execution_count": 25,
   "metadata": {},
   "outputs": [],
   "source": [
    "dfObj = {}\n",
    "attributes = df.columns\n",
    "# Skip contains the attributes that if missing, the row should be not included\n",
    "skip = [\"HEAT\", \"STYLE\", \"STRUCT\", \"GRADE\", \"CNDTN\", \"EXTWALL\", \"ROOF\", \"INTWALL\", \"USECODE\", \"BLDG_NUM\", \"SALE_NUM\", \"AC\"]\n",
    "# nonRatio array is an array of all columns that are numerical but not a ratio type attribute\n",
    "nonRatio = [\"AYB\", \"YR_RMDL\", \"EYB\", \"SALEDATE\", \"GIS_LAST_MOD_DTTM\", \"PRICE\"]\n",
    "medians = []"
   ]
  },
  {
   "cell_type": "code",
   "execution_count": 26,
   "metadata": {},
   "outputs": [],
   "source": [
    "def isSkip(i):\n",
    "    isSkip = False\n",
    "    for attribute in skip:\n",
    "        if attribute == attributes[i]:\n",
    "            isSkip = True\n",
    "            break\n",
    "    return isSkip\n",
    "\n",
    "def isNonRatio(i):\n",
    "    isNonRatio = False\n",
    "    for attribute in nonRatio:\n",
    "        if attribute == attributes[i]:\n",
    "            isNonRatio = True\n",
    "            break\n",
    "    return isNonRatio"
   ]
  },
  {
   "cell_type": "markdown",
   "metadata": {},
   "source": [
    "Must add fix missing data before removing redundant attributes"
   ]
  },
  {
   "cell_type": "code",
   "execution_count": 27,
   "metadata": {},
   "outputs": [
    {
     "name": "stdout",
     "output_type": "stream",
     "text": [
      "Count 29\n"
     ]
    }
   ],
   "source": [
    "for attribute in df.columns:\n",
    "    dfObj[attribute] = []\n",
    "    medians.append(df[[attribute]].median().values)\n",
    "\n",
    "i = 0\n",
    "    \n",
    "for row in df.values:\n",
    "    newRow = []\n",
    "    ignoreRow = False\n",
    "    \n",
    "    for i in range(0, len(row)):\n",
    "        value = None\n",
    "        \n",
    "        if row[i] != row[i]: # nan (empty cell) check\n",
    "            if (isSkip(i)):\n",
    "                ignoreRow = True\n",
    "                i += 1\n",
    "                break\n",
    "\n",
    "            if (isNonRatio(i)):\n",
    "                value = 0\n",
    "\n",
    "            if (len(medians[i]) != 0):  # Was the median computed for that attribute\n",
    "                if value != 0:\n",
    "                    value = medians[i][0]\n",
    "            else:\n",
    "                ignoreRow = True\n",
    "                i += 1\n",
    "                break\n",
    "\n",
    "        else:\n",
    "            value = row[i]\n",
    "\n",
    "        newRow.append(value)\n",
    "    \n",
    "    if (not ignoreRow):\n",
    "        for y in range(0, len(attributes)):\n",
    "            dfObj[attributes[y]].append(newRow[y])\n",
    "            \n",
    "print(\"Count\", i)\n",
    "pd.DataFrame(dfObj).to_csv(\"test3.csv\", index=False)"
   ]
  },
  {
   "cell_type": "code",
   "execution_count": 6,
   "metadata": {},
   "outputs": [],
   "source": [
    "from datetime import datetime\n",
    "dateAttrs = {\n",
    "    \"sale_year\": [],\n",
    "    \"sale_month\": [],\n",
    "    \"sale_day\": [],\n",
    "    \"gis_year\": [],\n",
    "    \"gis_month\": [],\n",
    "    \"gis_day\": [],\n",
    "}\n",
    "\n",
    "for x in df[\"SALEDATE\"].values:\n",
    "    if (x == 0):\n",
    "        dateAttrs[\"sale_year\"].append(0)\n",
    "        dateAttrs[\"sale_month\"].append(0)\n",
    "        dateAttrs[\"sale_day\"].append(0)\n",
    "    else:\n",
    "        date = datetime.strptime(x[:-5], \"%Y-%m-%dT%H:%M:%S\")\n",
    "        dateAttrs[\"sale_year\"].append(date.year)\n",
    "        dateAttrs[\"sale_month\"].append(date.month)\n",
    "        dateAttrs[\"sale_day\"].append(date.day)\n",
    "        \n",
    "for x in df[\"GIS_LAST_MOD_DTTM\"].values:\n",
    "    if (x == 0):\n",
    "        dateAttrs[\"gis_year\"].append(0)\n",
    "        dateAttrs[\"gis_month\"].append(0)\n",
    "        dateAttrs[\"gis_day\"].append(0)\n",
    "    else:\n",
    "        date = datetime.strptime(x[:-5], \"%Y-%m-%dT%H:%M:%S\")\n",
    "        dateAttrs[\"gis_year\"].append(date.year)\n",
    "        dateAttrs[\"gis_month\"].append(date.month)\n",
    "        dateAttrs[\"gis_day\"].append(date.day)\n",
    "\n",
    "pd.DataFrame(dateAttrs).to_csv(\"dates.csv\", index=False)"
   ]
  },
  {
   "cell_type": "code",
   "execution_count": 7,
   "metadata": {},
   "outputs": [
    {
     "name": "stdout",
     "output_type": "stream",
     "text": [
      "{'year': [2018], 'month': [7], 'day': [22]}\n"
     ]
    }
   ],
   "source": [
    "dates_df = pd.read_csv(\"./dates.csv\")\n",
    "gis = {\n",
    "    \"year\": [],\n",
    "    \"month\": [],\n",
    "    \"day\": []\n",
    "}\n",
    "\n",
    "for year in dates_df[\"gis_year\"].values:\n",
    "    try:\n",
    "        gis[\"year\"].index(year)\n",
    "    except:\n",
    "        gis[\"year\"].append(year)\n",
    "        \n",
    "for month in dates_df[\"gis_month\"].values:\n",
    "    try:\n",
    "        gis[\"month\"].index(month)\n",
    "    except:\n",
    "        gis[\"month\"].append(month)\n",
    "        \n",
    "for day in dates_df[\"gis_day\"].values:\n",
    "    try:\n",
    "        gis[\"day\"].index(day)\n",
    "    except:\n",
    "        gis[\"day\"].append(day)\n",
    "        \n",
    "print(gis)"
   ]
  },
  {
   "cell_type": "code",
   "execution_count": 23,
   "metadata": {},
   "outputs": [],
   "source": [
    "formattedDf = {}\n",
    "for attribute in df.columns:\n",
    "    if attribute != \"QUALIFIED\":\n",
    "        formattedDf[attribute] = unknown_df[attribute]\n",
    "    \n",
    "pd.DataFrame(formattedDf).to_csv(\"test4.csv\", index=False)"
   ]
  },
  {
   "cell_type": "code",
   "execution_count": null,
   "metadata": {},
   "outputs": [],
   "source": []
  }
 ],
 "metadata": {
  "kernelspec": {
   "display_name": "Python 3",
   "language": "python",
   "name": "python3"
  },
  "language_info": {
   "codemirror_mode": {
    "name": "ipython",
    "version": 3
   },
   "file_extension": ".py",
   "mimetype": "text/x-python",
   "name": "python",
   "nbconvert_exporter": "python",
   "pygments_lexer": "ipython3",
   "version": "3.8.3"
  }
 },
 "nbformat": 4,
 "nbformat_minor": 4
}
