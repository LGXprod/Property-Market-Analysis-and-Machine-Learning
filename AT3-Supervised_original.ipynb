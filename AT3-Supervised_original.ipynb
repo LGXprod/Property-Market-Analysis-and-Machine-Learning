{
 "cells": [
  {
   "cell_type": "code",
   "execution_count": 118,
   "metadata": {},
   "outputs": [],
   "source": [
    "import pandas as pd\n",
    "import numpy as np\n",
    "from sklearn.model_selection import train_test_split\n",
    "from sklearn import tree, svm\n",
    "from sklearn.neural_network import MLPClassifier\n",
    "from sklearn.metrics import confusion_matrix, roc_curve, auc, accuracy_score\n",
    "from sklearn.ensemble import RandomForestClassifier\n",
    "from sklearn.neighbors import KNeighborsClassifier\n",
    "from sklearn.preprocessing import MinMaxScaler\n",
    "import math\n",
    "import matplotlib.pyplot as plt\n",
    "# import seaborn as sns\n",
    "# import math\n",
    "# from mpl_toolkits.mplot3d import Axes3D\n",
    "\n",
    "train_df = pd.read_csv(\"./Assignment3-TrainingData-ModifiedV2.csv\")\n",
    "predict_df = pd.read_csv(\"./UnknownData_Clean.csv\")"
   ]
  },
  {
   "cell_type": "code",
   "execution_count": 119,
   "metadata": {},
   "outputs": [],
   "source": [
    "# norm_train = {}\n",
    "# attributes = train_df.columns\n",
    "\n",
    "# for attribute in attributes:\n",
    "#     if (attribute != \"row ID\" and attribute != \"QUALIFIED\"):\n",
    "#         minMax_scaler = MinMaxScaler()\n",
    "#         minMax_scaler.fit_transform(train_df[[attribute]])\n",
    "        \n",
    "#         norm_train[attribute] = minMax_scaler.fit_transform(train_df[[attribute]])\n",
    "        \n",
    "# for attribute in attributes:\n",
    "#     if (attribute != \"row ID\" and attribute != \"QUALIFIED\"):\n",
    "#         for y in (0, len(norm_train[attribute]-1)):\n",
    "#             norm_train[attribute][y] = norm_train[attribute][y][0]\n",
    "            \n",
    "# print(norm_train)"
   ]
  },
  {
   "cell_type": "code",
   "execution_count": 120,
   "metadata": {},
   "outputs": [],
   "source": [
    "inputs = train_df.drop(\"QUALIFIED\", axis=\"columns\").drop(\"row ID\", axis=\"columns\")\n",
    "target = train_df[\"QUALIFIED\"]\n",
    "unknownInputs = predict_df.drop(\"row ID\", axis=\"columns\")\n",
    "x_train, x_test, y_train, y_test = train_test_split(inputs, target, test_size=0.2, random_state=1)"
   ]
  },
  {
   "cell_type": "code",
   "execution_count": 121,
   "metadata": {},
   "outputs": [
    {
     "data": {
      "text/html": [
       "<div>\n",
       "<style scoped>\n",
       "    .dataframe tbody tr th:only-of-type {\n",
       "        vertical-align: middle;\n",
       "    }\n",
       "\n",
       "    .dataframe tbody tr th {\n",
       "        vertical-align: top;\n",
       "    }\n",
       "\n",
       "    .dataframe thead th {\n",
       "        text-align: right;\n",
       "    }\n",
       "</style>\n",
       "<table border=\"1\" class=\"dataframe\">\n",
       "  <thead>\n",
       "    <tr style=\"text-align: right;\">\n",
       "      <th></th>\n",
       "      <th>BATHRM</th>\n",
       "      <th>HF_BATHRM</th>\n",
       "      <th>HEAT</th>\n",
       "      <th>AC</th>\n",
       "      <th>NUM_UNITS</th>\n",
       "      <th>ROOMS</th>\n",
       "      <th>BEDRM</th>\n",
       "      <th>AYB</th>\n",
       "      <th>YR_RMDL</th>\n",
       "      <th>EYB</th>\n",
       "      <th>...</th>\n",
       "      <th>STRUCT</th>\n",
       "      <th>GRADE</th>\n",
       "      <th>CNDTN</th>\n",
       "      <th>EXTWALL</th>\n",
       "      <th>ROOF</th>\n",
       "      <th>INTWALL</th>\n",
       "      <th>KITCHENS</th>\n",
       "      <th>FIREPLACES</th>\n",
       "      <th>USECODE</th>\n",
       "      <th>LANDAREA</th>\n",
       "    </tr>\n",
       "  </thead>\n",
       "  <tbody>\n",
       "    <tr>\n",
       "      <th>0</th>\n",
       "      <td>4.0</td>\n",
       "      <td>0.0</td>\n",
       "      <td>7.0</td>\n",
       "      <td>1</td>\n",
       "      <td>2.0</td>\n",
       "      <td>8.0</td>\n",
       "      <td>4.0</td>\n",
       "      <td>1910.0</td>\n",
       "      <td>1988.0</td>\n",
       "      <td>1972</td>\n",
       "      <td>...</td>\n",
       "      <td>7.0</td>\n",
       "      <td>6.0</td>\n",
       "      <td>4.0</td>\n",
       "      <td>14.0</td>\n",
       "      <td>6.0</td>\n",
       "      <td>6.0</td>\n",
       "      <td>2.0</td>\n",
       "      <td>5.0</td>\n",
       "      <td>24</td>\n",
       "      <td>1680</td>\n",
       "    </tr>\n",
       "    <tr>\n",
       "      <th>1</th>\n",
       "      <td>3.0</td>\n",
       "      <td>1.0</td>\n",
       "      <td>13.0</td>\n",
       "      <td>1</td>\n",
       "      <td>2.0</td>\n",
       "      <td>8.0</td>\n",
       "      <td>5.0</td>\n",
       "      <td>1900.0</td>\n",
       "      <td>2003.0</td>\n",
       "      <td>1984</td>\n",
       "      <td>...</td>\n",
       "      <td>7.0</td>\n",
       "      <td>6.0</td>\n",
       "      <td>4.0</td>\n",
       "      <td>14.0</td>\n",
       "      <td>2.0</td>\n",
       "      <td>6.0</td>\n",
       "      <td>2.0</td>\n",
       "      <td>3.0</td>\n",
       "      <td>24</td>\n",
       "      <td>1680</td>\n",
       "    </tr>\n",
       "    <tr>\n",
       "      <th>2</th>\n",
       "      <td>1.0</td>\n",
       "      <td>0.0</td>\n",
       "      <td>7.0</td>\n",
       "      <td>1</td>\n",
       "      <td>2.0</td>\n",
       "      <td>5.0</td>\n",
       "      <td>2.0</td>\n",
       "      <td>1917.0</td>\n",
       "      <td>1988.0</td>\n",
       "      <td>1957</td>\n",
       "      <td>...</td>\n",
       "      <td>7.0</td>\n",
       "      <td>4.0</td>\n",
       "      <td>3.0</td>\n",
       "      <td>14.0</td>\n",
       "      <td>6.0</td>\n",
       "      <td>6.0</td>\n",
       "      <td>2.0</td>\n",
       "      <td>0.0</td>\n",
       "      <td>24</td>\n",
       "      <td>1261</td>\n",
       "    </tr>\n",
       "    <tr>\n",
       "      <th>3</th>\n",
       "      <td>3.0</td>\n",
       "      <td>1.0</td>\n",
       "      <td>13.0</td>\n",
       "      <td>1</td>\n",
       "      <td>2.0</td>\n",
       "      <td>8.0</td>\n",
       "      <td>4.0</td>\n",
       "      <td>1906.0</td>\n",
       "      <td>2011.0</td>\n",
       "      <td>1972</td>\n",
       "      <td>...</td>\n",
       "      <td>7.0</td>\n",
       "      <td>6.0</td>\n",
       "      <td>3.0</td>\n",
       "      <td>14.0</td>\n",
       "      <td>6.0</td>\n",
       "      <td>6.0</td>\n",
       "      <td>2.0</td>\n",
       "      <td>1.0</td>\n",
       "      <td>24</td>\n",
       "      <td>1627</td>\n",
       "    </tr>\n",
       "    <tr>\n",
       "      <th>4</th>\n",
       "      <td>1.0</td>\n",
       "      <td>1.0</td>\n",
       "      <td>13.0</td>\n",
       "      <td>1</td>\n",
       "      <td>1.0</td>\n",
       "      <td>6.0</td>\n",
       "      <td>2.0</td>\n",
       "      <td>1908.0</td>\n",
       "      <td>1979.0</td>\n",
       "      <td>1950</td>\n",
       "      <td>...</td>\n",
       "      <td>7.0</td>\n",
       "      <td>5.0</td>\n",
       "      <td>3.0</td>\n",
       "      <td>14.0</td>\n",
       "      <td>2.0</td>\n",
       "      <td>6.0</td>\n",
       "      <td>1.0</td>\n",
       "      <td>0.0</td>\n",
       "      <td>11</td>\n",
       "      <td>1424</td>\n",
       "    </tr>\n",
       "    <tr>\n",
       "      <th>...</th>\n",
       "      <td>...</td>\n",
       "      <td>...</td>\n",
       "      <td>...</td>\n",
       "      <td>...</td>\n",
       "      <td>...</td>\n",
       "      <td>...</td>\n",
       "      <td>...</td>\n",
       "      <td>...</td>\n",
       "      <td>...</td>\n",
       "      <td>...</td>\n",
       "      <td>...</td>\n",
       "      <td>...</td>\n",
       "      <td>...</td>\n",
       "      <td>...</td>\n",
       "      <td>...</td>\n",
       "      <td>...</td>\n",
       "      <td>...</td>\n",
       "      <td>...</td>\n",
       "      <td>...</td>\n",
       "      <td>...</td>\n",
       "      <td>...</td>\n",
       "    </tr>\n",
       "    <tr>\n",
       "      <th>32142</th>\n",
       "      <td>3.0</td>\n",
       "      <td>0.0</td>\n",
       "      <td>1.0</td>\n",
       "      <td>0</td>\n",
       "      <td>3.0</td>\n",
       "      <td>14.0</td>\n",
       "      <td>6.0</td>\n",
       "      <td>1953.0</td>\n",
       "      <td>1999.0</td>\n",
       "      <td>1971</td>\n",
       "      <td>...</td>\n",
       "      <td>2.0</td>\n",
       "      <td>3.0</td>\n",
       "      <td>3.0</td>\n",
       "      <td>14.0</td>\n",
       "      <td>2.0</td>\n",
       "      <td>6.0</td>\n",
       "      <td>3.0</td>\n",
       "      <td>0.0</td>\n",
       "      <td>23</td>\n",
       "      <td>7811</td>\n",
       "    </tr>\n",
       "    <tr>\n",
       "      <th>32143</th>\n",
       "      <td>2.0</td>\n",
       "      <td>0.0</td>\n",
       "      <td>1.0</td>\n",
       "      <td>0</td>\n",
       "      <td>2.0</td>\n",
       "      <td>10.0</td>\n",
       "      <td>4.0</td>\n",
       "      <td>1953.0</td>\n",
       "      <td>NaN</td>\n",
       "      <td>1962</td>\n",
       "      <td>...</td>\n",
       "      <td>2.0</td>\n",
       "      <td>3.0</td>\n",
       "      <td>3.0</td>\n",
       "      <td>14.0</td>\n",
       "      <td>2.0</td>\n",
       "      <td>6.0</td>\n",
       "      <td>2.0</td>\n",
       "      <td>0.0</td>\n",
       "      <td>23</td>\n",
       "      <td>4292</td>\n",
       "    </tr>\n",
       "    <tr>\n",
       "      <th>32144</th>\n",
       "      <td>3.0</td>\n",
       "      <td>0.0</td>\n",
       "      <td>1.0</td>\n",
       "      <td>0</td>\n",
       "      <td>3.0</td>\n",
       "      <td>12.0</td>\n",
       "      <td>6.0</td>\n",
       "      <td>1953.0</td>\n",
       "      <td>NaN</td>\n",
       "      <td>1962</td>\n",
       "      <td>...</td>\n",
       "      <td>2.0</td>\n",
       "      <td>3.0</td>\n",
       "      <td>3.0</td>\n",
       "      <td>14.0</td>\n",
       "      <td>2.0</td>\n",
       "      <td>3.0</td>\n",
       "      <td>3.0</td>\n",
       "      <td>0.0</td>\n",
       "      <td>23</td>\n",
       "      <td>4232</td>\n",
       "    </tr>\n",
       "    <tr>\n",
       "      <th>32145</th>\n",
       "      <td>2.0</td>\n",
       "      <td>0.0</td>\n",
       "      <td>1.0</td>\n",
       "      <td>0</td>\n",
       "      <td>2.0</td>\n",
       "      <td>10.0</td>\n",
       "      <td>4.0</td>\n",
       "      <td>1953.0</td>\n",
       "      <td>NaN</td>\n",
       "      <td>1962</td>\n",
       "      <td>...</td>\n",
       "      <td>2.0</td>\n",
       "      <td>3.0</td>\n",
       "      <td>3.0</td>\n",
       "      <td>14.0</td>\n",
       "      <td>1.0</td>\n",
       "      <td>2.0</td>\n",
       "      <td>2.0</td>\n",
       "      <td>0.0</td>\n",
       "      <td>23</td>\n",
       "      <td>5837</td>\n",
       "    </tr>\n",
       "    <tr>\n",
       "      <th>32146</th>\n",
       "      <td>2.0</td>\n",
       "      <td>0.0</td>\n",
       "      <td>1.0</td>\n",
       "      <td>1</td>\n",
       "      <td>2.0</td>\n",
       "      <td>10.0</td>\n",
       "      <td>4.0</td>\n",
       "      <td>1953.0</td>\n",
       "      <td>2018.0</td>\n",
       "      <td>1971</td>\n",
       "      <td>...</td>\n",
       "      <td>2.0</td>\n",
       "      <td>3.0</td>\n",
       "      <td>5.0</td>\n",
       "      <td>14.0</td>\n",
       "      <td>1.0</td>\n",
       "      <td>6.0</td>\n",
       "      <td>2.0</td>\n",
       "      <td>0.0</td>\n",
       "      <td>23</td>\n",
       "      <td>5098</td>\n",
       "    </tr>\n",
       "  </tbody>\n",
       "</table>\n",
       "<p>32147 rows × 29 columns</p>\n",
       "</div>"
      ],
      "text/plain": [
       "       BATHRM  HF_BATHRM  HEAT  AC  NUM_UNITS  ROOMS  BEDRM     AYB  YR_RMDL  \\\n",
       "0         4.0        0.0   7.0   1        2.0    8.0    4.0  1910.0   1988.0   \n",
       "1         3.0        1.0  13.0   1        2.0    8.0    5.0  1900.0   2003.0   \n",
       "2         1.0        0.0   7.0   1        2.0    5.0    2.0  1917.0   1988.0   \n",
       "3         3.0        1.0  13.0   1        2.0    8.0    4.0  1906.0   2011.0   \n",
       "4         1.0        1.0  13.0   1        1.0    6.0    2.0  1908.0   1979.0   \n",
       "...       ...        ...   ...  ..        ...    ...    ...     ...      ...   \n",
       "32142     3.0        0.0   1.0   0        3.0   14.0    6.0  1953.0   1999.0   \n",
       "32143     2.0        0.0   1.0   0        2.0   10.0    4.0  1953.0      NaN   \n",
       "32144     3.0        0.0   1.0   0        3.0   12.0    6.0  1953.0      NaN   \n",
       "32145     2.0        0.0   1.0   0        2.0   10.0    4.0  1953.0      NaN   \n",
       "32146     2.0        0.0   1.0   1        2.0   10.0    4.0  1953.0   2018.0   \n",
       "\n",
       "        EYB  ...  STRUCT  GRADE  CNDTN  EXTWALL  ROOF  INTWALL  KITCHENS  \\\n",
       "0      1972  ...     7.0    6.0    4.0     14.0   6.0      6.0       2.0   \n",
       "1      1984  ...     7.0    6.0    4.0     14.0   2.0      6.0       2.0   \n",
       "2      1957  ...     7.0    4.0    3.0     14.0   6.0      6.0       2.0   \n",
       "3      1972  ...     7.0    6.0    3.0     14.0   6.0      6.0       2.0   \n",
       "4      1950  ...     7.0    5.0    3.0     14.0   2.0      6.0       1.0   \n",
       "...     ...  ...     ...    ...    ...      ...   ...      ...       ...   \n",
       "32142  1971  ...     2.0    3.0    3.0     14.0   2.0      6.0       3.0   \n",
       "32143  1962  ...     2.0    3.0    3.0     14.0   2.0      6.0       2.0   \n",
       "32144  1962  ...     2.0    3.0    3.0     14.0   2.0      3.0       3.0   \n",
       "32145  1962  ...     2.0    3.0    3.0     14.0   1.0      2.0       2.0   \n",
       "32146  1971  ...     2.0    3.0    5.0     14.0   1.0      6.0       2.0   \n",
       "\n",
       "       FIREPLACES  USECODE  LANDAREA  \n",
       "0             5.0       24      1680  \n",
       "1             3.0       24      1680  \n",
       "2             0.0       24      1261  \n",
       "3             1.0       24      1627  \n",
       "4             0.0       11      1424  \n",
       "...           ...      ...       ...  \n",
       "32142         0.0       23      7811  \n",
       "32143         0.0       23      4292  \n",
       "32144         0.0       23      4232  \n",
       "32145         0.0       23      5837  \n",
       "32146         0.0       23      5098  \n",
       "\n",
       "[32147 rows x 29 columns]"
      ]
     },
     "execution_count": 121,
     "metadata": {},
     "output_type": "execute_result"
    }
   ],
   "source": [
    "predictInputs"
   ]
  },
  {
   "cell_type": "code",
   "execution_count": 122,
   "metadata": {},
   "outputs": [
    {
     "data": {
      "text/html": [
       "<div>\n",
       "<style scoped>\n",
       "    .dataframe tbody tr th:only-of-type {\n",
       "        vertical-align: middle;\n",
       "    }\n",
       "\n",
       "    .dataframe tbody tr th {\n",
       "        vertical-align: top;\n",
       "    }\n",
       "\n",
       "    .dataframe thead th {\n",
       "        text-align: right;\n",
       "    }\n",
       "</style>\n",
       "<table border=\"1\" class=\"dataframe\">\n",
       "  <thead>\n",
       "    <tr style=\"text-align: right;\">\n",
       "      <th></th>\n",
       "      <th>BATHRM</th>\n",
       "      <th>HF_BATHRM</th>\n",
       "      <th>HEAT</th>\n",
       "      <th>AC</th>\n",
       "      <th>NUM_UNITS</th>\n",
       "      <th>ROOMS</th>\n",
       "      <th>BEDRM</th>\n",
       "      <th>AYB</th>\n",
       "      <th>YR_RMDL</th>\n",
       "      <th>EYB</th>\n",
       "      <th>...</th>\n",
       "      <th>STRUCT</th>\n",
       "      <th>GRADE</th>\n",
       "      <th>CNDTN</th>\n",
       "      <th>EXTWALL</th>\n",
       "      <th>ROOF</th>\n",
       "      <th>INTWALL</th>\n",
       "      <th>KITCHENS</th>\n",
       "      <th>FIREPLACES</th>\n",
       "      <th>USECODE</th>\n",
       "      <th>LANDAREA</th>\n",
       "    </tr>\n",
       "  </thead>\n",
       "  <tbody>\n",
       "    <tr>\n",
       "      <th>58821</th>\n",
       "      <td>1</td>\n",
       "      <td>0</td>\n",
       "      <td>13</td>\n",
       "      <td>0</td>\n",
       "      <td>1</td>\n",
       "      <td>5</td>\n",
       "      <td>2</td>\n",
       "      <td>1942</td>\n",
       "      <td>0</td>\n",
       "      <td>1954</td>\n",
       "      <td>...</td>\n",
       "      <td>7</td>\n",
       "      <td>3</td>\n",
       "      <td>3</td>\n",
       "      <td>14</td>\n",
       "      <td>2</td>\n",
       "      <td>6</td>\n",
       "      <td>1</td>\n",
       "      <td>0</td>\n",
       "      <td>11</td>\n",
       "      <td>1152</td>\n",
       "    </tr>\n",
       "    <tr>\n",
       "      <th>28912</th>\n",
       "      <td>1</td>\n",
       "      <td>0</td>\n",
       "      <td>7</td>\n",
       "      <td>1</td>\n",
       "      <td>1</td>\n",
       "      <td>6</td>\n",
       "      <td>3</td>\n",
       "      <td>1925</td>\n",
       "      <td>1977</td>\n",
       "      <td>1957</td>\n",
       "      <td>...</td>\n",
       "      <td>7</td>\n",
       "      <td>4</td>\n",
       "      <td>3</td>\n",
       "      <td>14</td>\n",
       "      <td>6</td>\n",
       "      <td>3</td>\n",
       "      <td>1</td>\n",
       "      <td>1</td>\n",
       "      <td>11</td>\n",
       "      <td>1853</td>\n",
       "    </tr>\n",
       "    <tr>\n",
       "      <th>9442</th>\n",
       "      <td>2</td>\n",
       "      <td>1</td>\n",
       "      <td>1</td>\n",
       "      <td>1</td>\n",
       "      <td>1</td>\n",
       "      <td>6</td>\n",
       "      <td>3</td>\n",
       "      <td>1900</td>\n",
       "      <td>2011</td>\n",
       "      <td>1964</td>\n",
       "      <td>...</td>\n",
       "      <td>1</td>\n",
       "      <td>3</td>\n",
       "      <td>4</td>\n",
       "      <td>5</td>\n",
       "      <td>2</td>\n",
       "      <td>6</td>\n",
       "      <td>1</td>\n",
       "      <td>0</td>\n",
       "      <td>12</td>\n",
       "      <td>2165</td>\n",
       "    </tr>\n",
       "    <tr>\n",
       "      <th>27675</th>\n",
       "      <td>5</td>\n",
       "      <td>1</td>\n",
       "      <td>7</td>\n",
       "      <td>1</td>\n",
       "      <td>1</td>\n",
       "      <td>9</td>\n",
       "      <td>4</td>\n",
       "      <td>1950</td>\n",
       "      <td>0</td>\n",
       "      <td>1974</td>\n",
       "      <td>...</td>\n",
       "      <td>1</td>\n",
       "      <td>7</td>\n",
       "      <td>3</td>\n",
       "      <td>14</td>\n",
       "      <td>11</td>\n",
       "      <td>6</td>\n",
       "      <td>1</td>\n",
       "      <td>1</td>\n",
       "      <td>12</td>\n",
       "      <td>13988</td>\n",
       "    </tr>\n",
       "    <tr>\n",
       "      <th>3621</th>\n",
       "      <td>2</td>\n",
       "      <td>1</td>\n",
       "      <td>1</td>\n",
       "      <td>1</td>\n",
       "      <td>1</td>\n",
       "      <td>4</td>\n",
       "      <td>2</td>\n",
       "      <td>1918</td>\n",
       "      <td>2009</td>\n",
       "      <td>1964</td>\n",
       "      <td>...</td>\n",
       "      <td>7</td>\n",
       "      <td>3</td>\n",
       "      <td>4</td>\n",
       "      <td>14</td>\n",
       "      <td>2</td>\n",
       "      <td>3</td>\n",
       "      <td>1</td>\n",
       "      <td>0</td>\n",
       "      <td>11</td>\n",
       "      <td>327</td>\n",
       "    </tr>\n",
       "    <tr>\n",
       "      <th>...</th>\n",
       "      <td>...</td>\n",
       "      <td>...</td>\n",
       "      <td>...</td>\n",
       "      <td>...</td>\n",
       "      <td>...</td>\n",
       "      <td>...</td>\n",
       "      <td>...</td>\n",
       "      <td>...</td>\n",
       "      <td>...</td>\n",
       "      <td>...</td>\n",
       "      <td>...</td>\n",
       "      <td>...</td>\n",
       "      <td>...</td>\n",
       "      <td>...</td>\n",
       "      <td>...</td>\n",
       "      <td>...</td>\n",
       "      <td>...</td>\n",
       "      <td>...</td>\n",
       "      <td>...</td>\n",
       "      <td>...</td>\n",
       "      <td>...</td>\n",
       "    </tr>\n",
       "    <tr>\n",
       "      <th>57928</th>\n",
       "      <td>2</td>\n",
       "      <td>0</td>\n",
       "      <td>13</td>\n",
       "      <td>0</td>\n",
       "      <td>2</td>\n",
       "      <td>6</td>\n",
       "      <td>2</td>\n",
       "      <td>1941</td>\n",
       "      <td>0</td>\n",
       "      <td>1954</td>\n",
       "      <td>...</td>\n",
       "      <td>2</td>\n",
       "      <td>3</td>\n",
       "      <td>3</td>\n",
       "      <td>14</td>\n",
       "      <td>2</td>\n",
       "      <td>6</td>\n",
       "      <td>2</td>\n",
       "      <td>0</td>\n",
       "      <td>23</td>\n",
       "      <td>1360</td>\n",
       "    </tr>\n",
       "    <tr>\n",
       "      <th>44541</th>\n",
       "      <td>1</td>\n",
       "      <td>0</td>\n",
       "      <td>7</td>\n",
       "      <td>1</td>\n",
       "      <td>1</td>\n",
       "      <td>7</td>\n",
       "      <td>3</td>\n",
       "      <td>1940</td>\n",
       "      <td>0</td>\n",
       "      <td>1954</td>\n",
       "      <td>...</td>\n",
       "      <td>7</td>\n",
       "      <td>4</td>\n",
       "      <td>3</td>\n",
       "      <td>14</td>\n",
       "      <td>6</td>\n",
       "      <td>6</td>\n",
       "      <td>1</td>\n",
       "      <td>0</td>\n",
       "      <td>11</td>\n",
       "      <td>2589</td>\n",
       "    </tr>\n",
       "    <tr>\n",
       "      <th>1188</th>\n",
       "      <td>2</td>\n",
       "      <td>0</td>\n",
       "      <td>1</td>\n",
       "      <td>1</td>\n",
       "      <td>2</td>\n",
       "      <td>5</td>\n",
       "      <td>3</td>\n",
       "      <td>1900</td>\n",
       "      <td>1969</td>\n",
       "      <td>1967</td>\n",
       "      <td>...</td>\n",
       "      <td>7</td>\n",
       "      <td>4</td>\n",
       "      <td>3</td>\n",
       "      <td>14</td>\n",
       "      <td>2</td>\n",
       "      <td>6</td>\n",
       "      <td>2</td>\n",
       "      <td>0</td>\n",
       "      <td>24</td>\n",
       "      <td>1181</td>\n",
       "    </tr>\n",
       "    <tr>\n",
       "      <th>33482</th>\n",
       "      <td>3</td>\n",
       "      <td>1</td>\n",
       "      <td>1</td>\n",
       "      <td>1</td>\n",
       "      <td>1</td>\n",
       "      <td>8</td>\n",
       "      <td>4</td>\n",
       "      <td>1938</td>\n",
       "      <td>2017</td>\n",
       "      <td>1967</td>\n",
       "      <td>...</td>\n",
       "      <td>7</td>\n",
       "      <td>4</td>\n",
       "      <td>5</td>\n",
       "      <td>14</td>\n",
       "      <td>2</td>\n",
       "      <td>6</td>\n",
       "      <td>1</td>\n",
       "      <td>0</td>\n",
       "      <td>11</td>\n",
       "      <td>1310</td>\n",
       "    </tr>\n",
       "    <tr>\n",
       "      <th>5944</th>\n",
       "      <td>1</td>\n",
       "      <td>0</td>\n",
       "      <td>13</td>\n",
       "      <td>0</td>\n",
       "      <td>1</td>\n",
       "      <td>6</td>\n",
       "      <td>3</td>\n",
       "      <td>1900</td>\n",
       "      <td>0</td>\n",
       "      <td>1960</td>\n",
       "      <td>...</td>\n",
       "      <td>7</td>\n",
       "      <td>5</td>\n",
       "      <td>3</td>\n",
       "      <td>14</td>\n",
       "      <td>6</td>\n",
       "      <td>6</td>\n",
       "      <td>1</td>\n",
       "      <td>0</td>\n",
       "      <td>11</td>\n",
       "      <td>1280</td>\n",
       "    </tr>\n",
       "  </tbody>\n",
       "</table>\n",
       "<p>14998 rows × 29 columns</p>\n",
       "</div>"
      ],
      "text/plain": [
       "       BATHRM  HF_BATHRM  HEAT  AC  NUM_UNITS  ROOMS  BEDRM   AYB  YR_RMDL  \\\n",
       "58821       1          0    13   0          1      5      2  1942        0   \n",
       "28912       1          0     7   1          1      6      3  1925     1977   \n",
       "9442        2          1     1   1          1      6      3  1900     2011   \n",
       "27675       5          1     7   1          1      9      4  1950        0   \n",
       "3621        2          1     1   1          1      4      2  1918     2009   \n",
       "...       ...        ...   ...  ..        ...    ...    ...   ...      ...   \n",
       "57928       2          0    13   0          2      6      2  1941        0   \n",
       "44541       1          0     7   1          1      7      3  1940        0   \n",
       "1188        2          0     1   1          2      5      3  1900     1969   \n",
       "33482       3          1     1   1          1      8      4  1938     2017   \n",
       "5944        1          0    13   0          1      6      3  1900        0   \n",
       "\n",
       "        EYB  ...  STRUCT  GRADE  CNDTN  EXTWALL  ROOF  INTWALL  KITCHENS  \\\n",
       "58821  1954  ...       7      3      3       14     2        6         1   \n",
       "28912  1957  ...       7      4      3       14     6        3         1   \n",
       "9442   1964  ...       1      3      4        5     2        6         1   \n",
       "27675  1974  ...       1      7      3       14    11        6         1   \n",
       "3621   1964  ...       7      3      4       14     2        3         1   \n",
       "...     ...  ...     ...    ...    ...      ...   ...      ...       ...   \n",
       "57928  1954  ...       2      3      3       14     2        6         2   \n",
       "44541  1954  ...       7      4      3       14     6        6         1   \n",
       "1188   1967  ...       7      4      3       14     2        6         2   \n",
       "33482  1967  ...       7      4      5       14     2        6         1   \n",
       "5944   1960  ...       7      5      3       14     6        6         1   \n",
       "\n",
       "       FIREPLACES  USECODE  LANDAREA  \n",
       "58821           0       11      1152  \n",
       "28912           1       11      1853  \n",
       "9442            0       12      2165  \n",
       "27675           1       12     13988  \n",
       "3621            0       11       327  \n",
       "...           ...      ...       ...  \n",
       "57928           0       23      1360  \n",
       "44541           0       11      2589  \n",
       "1188            0       24      1181  \n",
       "33482           0       11      1310  \n",
       "5944            0       11      1280  \n",
       "\n",
       "[14998 rows x 29 columns]"
      ]
     },
     "execution_count": 122,
     "metadata": {},
     "output_type": "execute_result"
    }
   ],
   "source": [
    "x_test"
   ]
  },
  {
   "cell_type": "code",
   "execution_count": 6,
   "metadata": {},
   "outputs": [],
   "source": [
    "treePredict = tree.DecisionTreeClassifier()\n",
    "treePredict = treePredict.fit(x_train, y_train)\n",
    "y_pred_score = treePredict.predict(x_test) "
   ]
  },
  {
   "cell_type": "code",
   "execution_count": 98,
   "metadata": {},
   "outputs": [],
   "source": [
    "def savePrediction(prediction, fileName):\n",
    "    pd.DataFrame({\n",
    "        \"Predict-Qualified\": prediction,\n",
    "    }).to_csv(fileName, index=False)"
   ]
  },
  {
   "cell_type": "code",
   "execution_count": 8,
   "metadata": {},
   "outputs": [
    {
     "name": "stdout",
     "output_type": "stream",
     "text": [
      "Confusion matrix: [[7663  993]\n",
      " [ 979 5363]]\n",
      "TPR: 0.8867160379541773 FPR: 0.15623033354310886\n",
      "Accuracy: 0.8685158021069476\n"
     ]
    }
   ],
   "source": [
    "results = pd.read_csv(\"./predictedVsActual.csv\")\n",
    "\n",
    "def evaluatePrediction(prediction, reality):\n",
    "    confusionMatrix = confusion_matrix(prediction, reality)\n",
    "    tpr = confusionMatrix[0][0] / (confusionMatrix[0][0] + confusionMatrix[1][0])\n",
    "    fpr = confusionMatrix[0][1] / (confusionMatrix[0][1] + confusionMatrix[1][1])\n",
    "    print(\"Confusion matrix:\", confusionMatrix)\n",
    "    print(\"TPR:\", tpr, \"FPR:\", fpr)\n",
    "\n",
    "    total = confusionMatrix[0][0] + confusionMatrix[1][0] + confusionMatrix[0][1] + confusionMatrix[1][1]\n",
    "    accuracy = (confusionMatrix[0][0] + confusionMatrix[1][1]) / total\n",
    "    print(\"Accuracy:\", accuracy)\n",
    "    \n",
    "evaluatePrediction(y_pred_score, y_test)"
   ]
  },
  {
   "cell_type": "code",
   "execution_count": 9,
   "metadata": {},
   "outputs": [
    {
     "name": "stdout",
     "output_type": "stream",
     "text": [
      "[0.         0.11328396 1.        ] [0.         0.84376967 1.        ]\n"
     ]
    }
   ],
   "source": [
    "tree_fpr, tree_tpr, threshold = roc_curve(y_test, y_pred_score)\n",
    "print(tree_fpr, tree_tpr)"
   ]
  },
  {
   "cell_type": "code",
   "execution_count": 10,
   "metadata": {},
   "outputs": [],
   "source": [
    "auc_tree = auc(tree_fpr, tree_tpr)"
   ]
  },
  {
   "cell_type": "code",
   "execution_count": 11,
   "metadata": {},
   "outputs": [],
   "source": [
    "svmPredict = svm.SVC()\n",
    "svmPredict.fit(x_train, y_train)\n",
    "svm_qPrediction = svmPredict.predict(x_test)"
   ]
  },
  {
   "cell_type": "code",
   "execution_count": 13,
   "metadata": {},
   "outputs": [
    {
     "name": "stdout",
     "output_type": "stream",
     "text": [
      "Confusion matrix: [[7052   59]\n",
      " [1590 6297]]\n",
      "TPR: 0.8160148113862532 FPR: 0.009282567652611706\n",
      "Accuracy: 0.8900520069342579\n"
     ]
    }
   ],
   "source": [
    "evaluatePrediction(svm_qPrediction, y_test)"
   ]
  },
  {
   "cell_type": "code",
   "execution_count": 14,
   "metadata": {},
   "outputs": [],
   "source": [
    "svmScore = svmPredict.decision_function(x_test)\n",
    "svm_fpr, svm_tpr, svm_threshold = roc_curve(y_test, svmScore)"
   ]
  },
  {
   "cell_type": "code",
   "execution_count": 15,
   "metadata": {},
   "outputs": [],
   "source": [
    "# mlpPredict = MLPClassifier(solver=\"lbfgs\", alpha)"
   ]
  },
  {
   "cell_type": "code",
   "execution_count": 123,
   "metadata": {},
   "outputs": [
    {
     "name": "stdout",
     "output_type": "stream",
     "text": [
      "Confusion matrix: [[7609  494]\n",
      " [1033 5862]]\n",
      "TPR: 0.8804674843786161 FPR: 0.0777218376337319\n",
      "Accuracy: 0.8981864248566476\n"
     ]
    }
   ],
   "source": [
    "randForestPredict = RandomForestClassifier(n_estimators=10)\n",
    "randForestPredict = randForestPredict.fit(x_train, y_train)\n",
    "randForestPrediction = randForestPredict.predict(x_test)\n",
    "\n",
    "evaluatePrediction(randForestPrediction, y_test)"
   ]
  },
  {
   "cell_type": "code",
   "execution_count": 124,
   "metadata": {},
   "outputs": [],
   "source": [
    "randForestPredict_whole = randForestPredict.predict(unknownInputs)\n",
    "savePrediction(randForestPredict_whole, \"forestPredict.csv\")"
   ]
  },
  {
   "cell_type": "code",
   "execution_count": 109,
   "metadata": {},
   "outputs": [
    {
     "data": {
      "text/plain": [
       "array([0, 1, 0, ..., 0, 0, 0], dtype=int64)"
      ]
     },
     "execution_count": 109,
     "metadata": {},
     "output_type": "execute_result"
    }
   ],
   "source": [
    "randForestPredict_whole"
   ]
  },
  {
   "cell_type": "code",
   "execution_count": 17,
   "metadata": {},
   "outputs": [],
   "source": [
    "randForestPredict_fpr, randForestPredict_tpr, randForestPredict_threshold = roc_curve(y_test, randForestPrediction)"
   ]
  },
  {
   "cell_type": "code",
   "execution_count": 18,
   "metadata": {},
   "outputs": [
    {
     "name": "stdout",
     "output_type": "stream",
     "text": [
      "{'score': 0.8909187891718896, 'prediction': array([0, 0, 1, ..., 0, 1, 0], dtype=int64)}\n"
     ]
    }
   ],
   "source": [
    "# https://towardsdatascience.com/knn-using-scikit-learn-c6bed765be75\n",
    "scores = {}\n",
    "scores_list = []\n",
    "\n",
    "for k in range(1, 26):\n",
    "    knn = KNeighborsClassifier(n_neighbors=k)\n",
    "    knn.fit(x_train, y_train)\n",
    "    y_pred = knn.predict(x_test)\n",
    "    scores[k] = {\n",
    "        \"score\": accuracy_score(y_test, y_pred),\n",
    "        \"prediction\": y_pred\n",
    "    }\n",
    "    scores_list.append(accuracy_score(y_test, y_pred))\n",
    "    \n",
    "print(scores[scores_list.index(max(scores_list))+1])"
   ]
  },
  {
   "cell_type": "code",
   "execution_count": 19,
   "metadata": {},
   "outputs": [
    {
     "name": "stdout",
     "output_type": "stream",
     "text": [
      "[0.8484464595279371, 0.8171756234164556, 0.8748499799973329, 0.8605147352980398, 0.8823176423523137, 0.8727830377383651, 0.8856514201893586, 0.8799173223096413, 0.8850513401786905, 0.8832511001466862, 0.8883184424589945, 0.8857180957460995, 0.8885851446859582, 0.8865182024269903, 0.8885851446859582, 0.8875850113348447, 0.8909187891718896, 0.8888518469129217, 0.8887851713561808, 0.8888518469129217, 0.8903187091612215, 0.8893852513668489, 0.8901186824909988, 0.8890518735831444, 0.8901853580477397]\n"
     ]
    }
   ],
   "source": [
    "print(scores_list)"
   ]
  },
  {
   "cell_type": "code",
   "execution_count": 20,
   "metadata": {},
   "outputs": [
    {
     "name": "stdout",
     "output_type": "stream",
     "text": [
      "Confusion matrix: [[7249  243]\n",
      " [1393 6113]]\n",
      "TPR: 0.8388104605415413 FPR: 0.0382315921963499\n",
      "Accuracy: 0.8909187891718896\n"
     ]
    }
   ],
   "source": [
    "kNN_prediction = scores[scores_list.index(max(scores_list))+1][\"prediction\"]\n",
    "evaluatePrediction(kNN_prediction, y_test)\n",
    "kNNPredict_fpr, kNNPredict_tpr, kNNPredict_threshold = roc_curve(y_test, kNN_prediction)"
   ]
  },
  {
   "cell_type": "code",
   "execution_count": 39,
   "metadata": {},
   "outputs": [
    {
     "name": "stdout",
     "output_type": "stream",
     "text": [
      "Confusion matrix: [[7008   29]\n",
      " [1634 6327]]\n",
      "TPR: 0.8109233973617218 FPR: 0.004562617998741347\n",
      "Accuracy: 0.8891185491398853\n"
     ]
    },
    {
     "name": "stderr",
     "output_type": "stream",
     "text": [
      "C:\\Users\\Matthew Ghannoum\\anaconda3\\lib\\site-packages\\sklearn\\neural_network\\_multilayer_perceptron.py:471: ConvergenceWarning: lbfgs failed to converge (status=1):\n",
      "STOP: TOTAL NO. of ITERATIONS REACHED LIMIT.\n",
      "\n",
      "Increase the number of iterations (max_iter) or scale the data as shown in:\n",
      "    https://scikit-learn.org/stable/modules/preprocessing.html\n",
      "  self.n_iter_ = _check_optimize_result(\"lbfgs\", opt_res, self.max_iter)\n"
     ]
    }
   ],
   "source": [
    "neuralPredict = MLPClassifier(solver='lbfgs', activation=\"logistic\", hidden_layer_sizes=(21), random_state=1)\n",
    "neuralPredict = neuralPredict.fit(x_train, y_train)\n",
    "neuralPrediction = neuralPredict.predict(x_test)\n",
    "\n",
    "evaluatePrediction(neuralPrediction, y_test)\n",
    "neural_fpr, neural_tpr, neural_threshold = roc_curve(y_test, neuralPrediction)"
   ]
  },
  {
   "cell_type": "code",
   "execution_count": 40,
   "metadata": {},
   "outputs": [],
   "source": [
    "def displayROC(fpr, tpr, label):\n",
    "    theAuc = auc(fpr, tpr)\n",
    "    plt.plot(fpr, tpr, label=label+\" (AUC = %0.3f)\" % theAuc)\n",
    "    plt.plot([0,1], [0,1], label=\"Useless Test\")\n",
    "    plt.xlabel(\"FPR\")\n",
    "    plt.ylabel(\"TPR\")\n",
    "    plt.grid(True)\n",
    "    plt.legend(bbox_to_anchor=(1, 0.75))\n",
    "    plt.show()"
   ]
  },
  {
   "cell_type": "code",
   "execution_count": 41,
   "metadata": {},
   "outputs": [
    {
     "data": {
      "image/png": "[encoded data removed]",
      "text/plain": [
       "<Figure size 432x288 with 1 Axes>"
      ]
     },
     "metadata": {
      "needs_background": "light"
     },
     "output_type": "display_data"
    },
    {
     "data": {
      "image/png": "[encoded data removed]",
      "text/plain": [
       "<Figure size 432x288 with 1 Axes>"
      ]
     },
     "metadata": {
      "needs_background": "light"
     },
     "output_type": "display_data"
    },
    {
     "data": {
      "image/png": "[encoded data removed]",
      "text/plain": [
       "<Figure size 432x288 with 1 Axes>"
      ]
     },
     "metadata": {
      "needs_background": "light"
     },
     "output_type": "display_data"
    },
    {
     "data": {
      "image/png": "[encoded data removed]",
      "text/plain": [
       "<Figure size 432x288 with 1 Axes>"
      ]
     },
     "metadata": {
      "needs_background": "light"
     },
     "output_type": "display_data"
    },
    {
     "data": {
      "image/png": "[encoded data removed]",
      "text/plain": [
       "<Figure size 432x288 with 1 Axes>"
      ]
     },
     "metadata": {
      "needs_background": "light"
     },
     "output_type": "display_data"
    }
   ],
   "source": [
    "displayROC(tree_fpr, tree_tpr, \"CART Tree\")\n",
    "displayROC(svm_fpr, svm_tpr, \"SVM\")\n",
    "displayROC(randForestPredict_fpr, randForestPredict_tpr, \"Random Forest\")\n",
    "displayROC(kNNPredict_fpr, kNNPredict_tpr, \"kNN\")\n",
    "displayROC(neural_fpr, neural_tpr, \"Neural Network\")"
   ]
  },
  {
   "cell_type": "code",
   "execution_count": 35,
   "metadata": {},
   "outputs": [
    {
     "data": {
      "image/png": "[encoded data removed]",
      "text/plain": [
       "<Figure size 432x288 with 1 Axes>"
      ]
     },
     "metadata": {
      "needs_background": "light"
     },
     "output_type": "display_data"
    }
   ],
   "source": [
    "displayROC(randForestPredict_fpr, randForestPredict_tpr)"
   ]
  },
  {
   "cell_type": "code",
   "execution_count": 42,
   "metadata": {},
   "outputs": [
    {
     "data": {
      "image/png": "[encoded data removed]",
      "text/plain": [
       "<Figure size 432x288 with 1 Axes>"
      ]
     },
     "metadata": {
      "needs_background": "light"
     },
     "output_type": "display_data"
    }
   ],
   "source": [
    "auc_svm = auc(svm_fpr, svm_tpr)\n",
    "auc_randForest = auc(randForestPredict_fpr, randForestPredict_tpr)\n",
    "auc_kNN = auc(kNNPredict_fpr, kNNPredict_tpr)\n",
    "auc_neural = auc(neural_fpr, neural_tpr)\n",
    "\n",
    "plt.plot(svm_fpr, svm_tpr, label=\"SVM (AUC = %0.3f)\" % auc_svm)\n",
    "plt.plot(tree_fpr, tree_tpr, label=\"CART (AUC = %0.3f)\" % auc_tree)\n",
    "plt.plot(randForestPredict_fpr, randForestPredict_tpr, label=\"Random Forest (AUC = %0.3f)\" % auc_randForest)\n",
    "plt.plot(kNNPredict_fpr, kNNPredict_tpr, label=\"K Nearest Neighbours (AUC = %0.3f)\" % auc_kNN)\n",
    "plt.plot(neural_fpr, neural_tpr, label=\"Neural Network (AUC = %0.3f)\" % auc_neural)\n",
    "plt.plot([0,1], [0,1], label=\"Useless Test\")\n",
    "plt.xlabel(\"FPR\")\n",
    "plt.ylabel(\"TPR\")\n",
    "plt.grid(True)\n",
    "plt.legend(bbox_to_anchor=(1, 0.75))\n",
    "plt.show()"
   ]
  },
  {
   "cell_type": "code",
   "execution_count": null,
   "metadata": {},
   "outputs": [],
   "source": []
  },
  {
   "cell_type": "code",
   "execution_count": null,
   "metadata": {},
   "outputs": [],
   "source": []
  }
 ],
 "metadata": {
  "kernelspec": {
   "display_name": "Python 3",
   "language": "python",
   "name": "python3"
  },
  "language_info": {
   "codemirror_mode": {
    "name": "ipython",
    "version": 3
   },
   "file_extension": ".py",
   "mimetype": "text/x-python",
   "name": "python",
   "nbconvert_exporter": "python",
   "pygments_lexer": "ipython3",
   "version": "3.8.3"
  }
 },
 "nbformat": 4,
 "nbformat_minor": 4
}
